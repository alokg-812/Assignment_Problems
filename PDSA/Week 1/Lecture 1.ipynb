{
 "cells": [
  {
   "cell_type": "markdown",
   "id": "50335840",
   "metadata": {},
   "source": [
    "# Compute primes from 1 to 100"
   ]
  },
  {
   "cell_type": "code",
   "execution_count": 1,
   "id": "0cd31786",
   "metadata": {},
   "outputs": [],
   "source": [
    "def factors(n):\n",
    "    factorList = []\n",
    "    for i in range(1, n+1):\n",
    "        if(n%i==0):\n",
    "            factorList.append(i)\n",
    "    return factorList"
   ]
  },
  {
   "cell_type": "code",
   "execution_count": 2,
   "id": "45a633cb",
   "metadata": {},
   "outputs": [],
   "source": [
    "def primes(n):\n",
    "    return factors(n) == [1,n]"
   ]
  },
  {
   "cell_type": "code",
   "execution_count": 3,
   "id": "3e3e806c",
   "metadata": {},
   "outputs": [],
   "source": [
    "def primes(n):\n",
    "    return(len(factors(n)) == 2)"
   ]
  },
  {
   "cell_type": "code",
   "execution_count": 5,
   "id": "98b7663b",
   "metadata": {},
   "outputs": [
    {
     "name": "stdout",
     "output_type": "stream",
     "text": [
      "[2, 3, 5, 7, 11, 13, 17, 19, 23, 29, 31, 37, 41, 43, 47, 53, 59, 61, 67, 71, 73, 79, 83, 89, 97]\n"
     ]
    }
   ],
   "source": [
    "primeList = []\n",
    "for i in range(1, 101):\n",
    "    if(primes(i)):\n",
    "        primeList.append(i);\n",
    "        \n",
    "print(primeList)"
   ]
  },
  {
   "cell_type": "code",
   "execution_count": null,
   "id": "51edca9e",
   "metadata": {},
   "outputs": [],
   "source": []
  }
 ],
 "metadata": {
  "kernelspec": {
   "display_name": "Python 3 (ipykernel)",
   "language": "python",
   "name": "python3"
  },
  "language_info": {
   "codemirror_mode": {
    "name": "ipython",
    "version": 3
   },
   "file_extension": ".py",
   "mimetype": "text/x-python",
   "name": "python",
   "nbconvert_exporter": "python",
   "pygments_lexer": "ipython3",
   "version": "3.11.5"
  }
 },
 "nbformat": 4,
 "nbformat_minor": 5
}
